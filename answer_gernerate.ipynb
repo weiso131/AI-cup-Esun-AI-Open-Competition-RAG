{
 "cells": [
  {
   "cell_type": "code",
   "execution_count": 1,
   "metadata": {},
   "outputs": [],
   "source": [
    "import json\n",
    "\n",
    "from langchain.text_splitter import RecursiveCharacterTextSplitter\n",
    "\n",
    "from utils.read_file import *\n",
    "from utils.model_tool import get_ans, use_reranker\n",
    "from utils.split_law import split_law_to_token\n"
   ]
  },
  {
   "cell_type": "code",
   "execution_count": 2,
   "metadata": {},
   "outputs": [],
   "source": [
    "\n",
    "\n",
    "INSURANCE_PATH = \"競賽資料集/reference/insurance\"\n",
    "FAQ_PATH = \"競賽資料集/reference/faq/pid_map_content.json\"\n",
    "ANS_PATH = \"競賽資料集/dataset/preliminary/ground_truths_example.json\"\n",
    "FINANCE_PATH = \"競賽資料集/reference/finance\"\n",
    "FILE_NUM = 2000\n",
    "\n",
    "QUESTION_PATH = \"競賽資料集/dataset/preliminary/questions_example.json\"\n",
    "QUESTION_PATH = \"questions_preliminary.json\""
   ]
  },
  {
   "cell_type": "code",
   "execution_count": 3,
   "metadata": {},
   "outputs": [
    {
     "name": "stderr",
     "output_type": "stream",
     "text": [
      "c:\\Users\\weiso131\\anaconda3\\envs\\rag\\Lib\\site-packages\\sentence_transformers\\cross_encoder\\CrossEncoder.py:13: TqdmWarning: IProgress not found. Please update jupyter and ipywidgets. See https://ipywidgets.readthedocs.io/en/stable/user_install.html\n",
      "  from tqdm.autonotebook import tqdm, trange\n"
     ]
    }
   ],
   "source": [
    "from sentence_transformers import SentenceTransformer\n",
    "from FlagEmbedding import FlagReranker\n",
    "\n",
    "# 加載模型\n",
    "embbeded_model = SentenceTransformer(\"./models/bge-m3\", device='cuda')\n",
    "#reranker = FlagReranker('BAAI/bge-reranker-v2-m3')"
   ]
  },
  {
   "cell_type": "code",
   "execution_count": 4,
   "metadata": {},
   "outputs": [],
   "source": [
    "\n",
    "def save_predictions_to_json(predictions, filename=\"pred_retrieve.json\"):#Modified\n",
    "    output = {\"answers\": predictions}\n",
    "    with open(filename, \"w\", encoding=\"utf-8\") as f:\n",
    "        json.dump(output, f, indent=4, ensure_ascii=False)\n",
    "    print(f\"Predictions saved to {filename}\")\n",
    "\n",
    "def gernerate_faq_ans(embbeded_model, question, i: int):\n",
    "    faq = read_json(FAQ_PATH)\n",
    "    document = read_target_faq(faq, question[i][\"source\"])\n",
    "    k_highest, _ = get_ans(embbeded_model, question[i], document)\n",
    "    predict = question[i][\"source\"][k_highest[0]]\n",
    "    \n",
    "    return predict\n",
    "        \n",
    "    \n",
    "    \n",
    "\n",
    "def gernerate_insurance_ans(embedded_model, question, i: int, already_read: list[str]):\n",
    "\n",
    "    src = np.array(question[i][\"source\"])\n",
    "    document = read_target_insurance_pdf(INSURANCE_PATH, src, already_read)\n",
    "    tokens = []\n",
    "    chunk_real_index = []\n",
    "\n",
    "    for j in range(len(document)):\n",
    "        chunks = split_law_to_token(document[j])\n",
    "        tokens.extend(chunks)\n",
    "        chunk_real_index.extend([src[j] for k in range(len(chunks))])\n",
    "\n",
    "    chunk_real_index = np.array(chunk_real_index)\n",
    "    token_index, _ = get_ans(embedded_model, question[i], tokens, 10)\n",
    "    all_predict = chunk_real_index[token_index]\n",
    "    #all_predict_text = [tokens[ti] for ti in token_index]\n",
    "    predict = all_predict[0]\n",
    "\n",
    "    return predict\n",
    "\n",
    "\n",
    "\n"
   ]
  },
  {
   "cell_type": "code",
   "execution_count": 5,
   "metadata": {},
   "outputs": [],
   "source": [
    "import re\n",
    "import jieba.analyse\n",
    "def remove_useless(text):\n",
    "\n",
    "    pattern = r\"(\\b\\d{1,3}(,\\d{3})+\\b)|(-?\\b\\d+(\\.\\d+)?\\b)\"\n",
    "    text = re.sub(pattern, '1', text)\n",
    "    text = str(text).replace(' ', '')\n",
    "    return text\n",
    "\n",
    "def find_most_correct(top10: list[str], query: str, all_predict, similarity: np.array):\n",
    "    keywords = jieba.analyse.extract_tags(query, topK=10)\n",
    "    score = list(np.zeros(len(top10)))\n",
    "    for i in range(len(top10)):\n",
    "        \n",
    "        for k in keywords:\n",
    "            if k.isdigit():\n",
    "                continue\n",
    "            if re.search(k, top10[i]):\n",
    "                score[i] += 1\n",
    "        score[i] *= similarity[i]\n",
    "    order = np.argsort(score)[::-1]\n",
    "    return all_predict[order[0]]\n",
    "\n",
    "text_splitter = RecursiveCharacterTextSplitter(\n",
    "    chunk_size=500,  # 每段的目標長度\n",
    "    chunk_overlap=300  # 分段間的重疊字符數\n",
    ")\n",
    "        "
   ]
  },
  {
   "cell_type": "code",
   "execution_count": 6,
   "metadata": {},
   "outputs": [],
   "source": [
    "\n",
    "\n",
    "def gernerate_finance_ans(embbeded_model, question, i: int, already_read: list[str]):\n",
    "\n",
    "    query = question[i][\"query\"]\n",
    "\n",
    "\n",
    "    src = np.array(question[i][\"source\"])\n",
    "    document = read_target_insurance_pdf(FINANCE_PATH, src, already_read)\n",
    "    tokens = []\n",
    "    chunk_real_index = []\n",
    "\n",
    "\n",
    "    for j in range(len(document)):\n",
    "        text = remove_useless(document[j])\n",
    "        valid_chunks = text_splitter.split_text(text)\n",
    "        tokens.extend(valid_chunks)\n",
    "        chunk_real_index.extend([src[j] for k in range(len(valid_chunks))])\n",
    "\n",
    "    \n",
    "    chunk_real_index = np.array(chunk_real_index)\n",
    "\n",
    "    token_index, similarities = get_ans(embbeded_model, question[i], tokens, 10)\n",
    "    all_predict = chunk_real_index[token_index]\n",
    "    all_predict_text = [tokens[p] for p in token_index]\n",
    "    predict = find_most_correct(all_predict_text, query, all_predict, similarities)\n",
    "\n",
    "    return predict\n"
   ]
  },
  {
   "cell_type": "code",
   "execution_count": 7,
   "metadata": {},
   "outputs": [],
   "source": [
    "\n",
    "already_read_insurance = [\"\" for _ in range(FILE_NUM)]\n",
    "already_read_finance = [\"\" for _ in range(FILE_NUM)]\n",
    "\n",
    "question = read_json(QUESTION_PATH)[\"questions\"]\n",
    "results = []"
   ]
  },
  {
   "cell_type": "code",
   "execution_count": 10,
   "metadata": {},
   "outputs": [
    {
     "data": {
      "text/plain": [
       "553"
      ]
     },
     "execution_count": 10,
     "metadata": {},
     "output_type": "execute_result"
    }
   ],
   "source": [
    "len(results)"
   ]
  },
  {
   "cell_type": "code",
   "execution_count": 16,
   "metadata": {},
   "outputs": [
    {
     "ename": "KeyboardInterrupt",
     "evalue": "",
     "output_type": "error",
     "traceback": [
      "\u001b[1;31m---------------------------------------------------------------------------\u001b[0m",
      "\u001b[1;31mKeyboardInterrupt\u001b[0m                         Traceback (most recent call last)",
      "Cell \u001b[1;32mIn[16], line 7\u001b[0m\n\u001b[0;32m      5\u001b[0m     predict \u001b[38;5;241m=\u001b[39m gernerate_insurance_ans(embbeded_model, question, i, already_read_insurance)\n\u001b[0;32m      6\u001b[0m \u001b[38;5;28;01melif\u001b[39;00m category \u001b[38;5;241m==\u001b[39m \u001b[38;5;124m\"\u001b[39m\u001b[38;5;124mfinance\u001b[39m\u001b[38;5;124m\"\u001b[39m:\n\u001b[1;32m----> 7\u001b[0m     predict \u001b[38;5;241m=\u001b[39m \u001b[43mgernerate_finance_ans\u001b[49m\u001b[43m(\u001b[49m\u001b[43membbeded_model\u001b[49m\u001b[43m,\u001b[49m\u001b[43m \u001b[49m\u001b[43mquestion\u001b[49m\u001b[43m,\u001b[49m\u001b[43m \u001b[49m\u001b[43mi\u001b[49m\u001b[43m,\u001b[49m\u001b[43m \u001b[49m\u001b[43malready_read_finance\u001b[49m\u001b[43m)\u001b[49m\n\u001b[0;32m      8\u001b[0m \u001b[38;5;28;01melif\u001b[39;00m category \u001b[38;5;241m==\u001b[39m \u001b[38;5;124m\"\u001b[39m\u001b[38;5;124mfaq\u001b[39m\u001b[38;5;124m\"\u001b[39m:\n\u001b[0;32m      9\u001b[0m     predict \u001b[38;5;241m=\u001b[39m gernerate_faq_ans(embbeded_model, question, i)\n",
      "Cell \u001b[1;32mIn[6], line 21\u001b[0m, in \u001b[0;36mgernerate_finance_ans\u001b[1;34m(embbeded_model, question, i, already_read)\u001b[0m\n\u001b[0;32m     16\u001b[0m     chunk_real_index\u001b[38;5;241m.\u001b[39mextend([src[j] \u001b[38;5;28;01mfor\u001b[39;00m k \u001b[38;5;129;01min\u001b[39;00m \u001b[38;5;28mrange\u001b[39m(\u001b[38;5;28mlen\u001b[39m(valid_chunks))])\n\u001b[0;32m     19\u001b[0m chunk_real_index \u001b[38;5;241m=\u001b[39m np\u001b[38;5;241m.\u001b[39marray(chunk_real_index)\n\u001b[1;32m---> 21\u001b[0m token_index, similarities \u001b[38;5;241m=\u001b[39m \u001b[43mget_ans\u001b[49m\u001b[43m(\u001b[49m\u001b[43membbeded_model\u001b[49m\u001b[43m,\u001b[49m\u001b[43m \u001b[49m\u001b[43mquestion\u001b[49m\u001b[43m[\u001b[49m\u001b[43mi\u001b[49m\u001b[43m]\u001b[49m\u001b[43m,\u001b[49m\u001b[43m \u001b[49m\u001b[43mtokens\u001b[49m\u001b[43m,\u001b[49m\u001b[43m \u001b[49m\u001b[38;5;241;43m10\u001b[39;49m\u001b[43m)\u001b[49m\n\u001b[0;32m     22\u001b[0m all_predict \u001b[38;5;241m=\u001b[39m chunk_real_index[token_index]\n\u001b[0;32m     23\u001b[0m all_predict_text \u001b[38;5;241m=\u001b[39m [tokens[p] \u001b[38;5;28;01mfor\u001b[39;00m p \u001b[38;5;129;01min\u001b[39;00m token_index]\n",
      "File \u001b[1;32mc:\\Users\\weiso131\\Desktop\\AI cup 玉山銀行\\utils\\model_tool.py:5\u001b[0m, in \u001b[0;36mget_ans\u001b[1;34m(embedded_model, question_data, documents, k)\u001b[0m\n\u001b[0;32m      4\u001b[0m \u001b[38;5;28;01mdef\u001b[39;00m \u001b[38;5;21mget_ans\u001b[39m(embedded_model, question_data: \u001b[38;5;28mdict\u001b[39m, documents: \u001b[38;5;28mlist\u001b[39m, k\u001b[38;5;241m=\u001b[39m\u001b[38;5;241m1\u001b[39m):\n\u001b[1;32m----> 5\u001b[0m     document_ebeddings \u001b[38;5;241m=\u001b[39m \u001b[43membedded_model\u001b[49m\u001b[38;5;241;43m.\u001b[39;49m\u001b[43mencode\u001b[49m\u001b[43m(\u001b[49m\u001b[43mdocuments\u001b[49m\u001b[43m)\u001b[49m\n\u001b[0;32m      7\u001b[0m     \u001b[38;5;66;03m# 使用者查詢\u001b[39;00m\n\u001b[0;32m      8\u001b[0m     user_query \u001b[38;5;241m=\u001b[39m question_data[\u001b[38;5;124m\"\u001b[39m\u001b[38;5;124mquery\u001b[39m\u001b[38;5;124m\"\u001b[39m]\n",
      "File \u001b[1;32mc:\\Users\\weiso131\\anaconda3\\envs\\rag\\Lib\\site-packages\\sentence_transformers\\SentenceTransformer.py:630\u001b[0m, in \u001b[0;36mSentenceTransformer.encode\u001b[1;34m(self, sentences, prompt_name, prompt, batch_size, show_progress_bar, output_value, precision, convert_to_numpy, convert_to_tensor, device, normalize_embeddings, **kwargs)\u001b[0m\n\u001b[0;32m    628\u001b[0m             \u001b[38;5;66;03m# fixes for #522 and #487 to avoid oom problems on gpu with large datasets\u001b[39;00m\n\u001b[0;32m    629\u001b[0m             \u001b[38;5;28;01mif\u001b[39;00m convert_to_numpy:\n\u001b[1;32m--> 630\u001b[0m                 embeddings \u001b[38;5;241m=\u001b[39m \u001b[43membeddings\u001b[49m\u001b[38;5;241;43m.\u001b[39;49m\u001b[43mcpu\u001b[49m\u001b[43m(\u001b[49m\u001b[43m)\u001b[49m\n\u001b[0;32m    632\u001b[0m         all_embeddings\u001b[38;5;241m.\u001b[39mextend(embeddings)\n\u001b[0;32m    634\u001b[0m all_embeddings \u001b[38;5;241m=\u001b[39m [all_embeddings[idx] \u001b[38;5;28;01mfor\u001b[39;00m idx \u001b[38;5;129;01min\u001b[39;00m np\u001b[38;5;241m.\u001b[39margsort(length_sorted_idx)]\n",
      "\u001b[1;31mKeyboardInterrupt\u001b[0m: "
     ]
    },
    {
     "ename": "",
     "evalue": "",
     "output_type": "error",
     "traceback": [
      "\u001b[1;31mThe Kernel crashed while executing code in the current cell or a previous cell. \n",
      "\u001b[1;31mPlease review the code in the cell(s) to identify a possible cause of the failure. \n",
      "\u001b[1;31mClick <a href='https://aka.ms/vscodeJupyterKernelCrash'>here</a> for more info. \n",
      "\u001b[1;31mView Jupyter <a href='command:jupyter.viewOutput'>log</a> for further details."
     ]
    }
   ],
   "source": [
    "\n",
    "for i in range(553, len(question)):\n",
    "    category = question[i]['category']\n",
    "    predict = 0\n",
    "    if category == \"insurance\":\n",
    "        predict = gernerate_insurance_ans(embbeded_model, question, i, already_read_insurance)\n",
    "    elif category == \"finance\":\n",
    "        predict = gernerate_finance_ans(embbeded_model, question, i, already_read_finance)\n",
    "    elif category == \"faq\":\n",
    "        predict = gernerate_faq_ans(embbeded_model, question, i)\n",
    "    results.append({\"qid\": i + 1, \"retrieve\": int(predict)})"
   ]
  },
  {
   "cell_type": "code",
   "execution_count": 14,
   "metadata": {},
   "outputs": [
    {
     "name": "stdout",
     "output_type": "stream",
     "text": [
      "[{'qid': 1, 'retrieve': 388}, {'qid': 2, 'retrieve': 600}, {'qid': 3, 'retrieve': 600}, {'qid': 4, 'retrieve': 81}, {'qid': 5, 'retrieve': 30}, {'qid': 6, 'retrieve': 30}, {'qid': 7, 'retrieve': 30}, {'qid': 8, 'retrieve': 641}, {'qid': 9, 'retrieve': 419}, {'qid': 10, 'retrieve': 271}, {'qid': 11, 'retrieve': 259}, {'qid': 12, 'retrieve': 290}, {'qid': 13, 'retrieve': 490}, {'qid': 14, 'retrieve': 251}, {'qid': 15, 'retrieve': 560}, {'qid': 16, 'retrieve': 512}, {'qid': 17, 'retrieve': 328}, {'qid': 18, 'retrieve': 403}, {'qid': 19, 'retrieve': 378}, {'qid': 20, 'retrieve': 271}, {'qid': 21, 'retrieve': 523}, {'qid': 22, 'retrieve': 264}, {'qid': 23, 'retrieve': 42}, {'qid': 24, 'retrieve': 507}, {'qid': 25, 'retrieve': 328}, {'qid': 26, 'retrieve': 250}, {'qid': 27, 'retrieve': 192}, {'qid': 28, 'retrieve': 600}, {'qid': 29, 'retrieve': 380}, {'qid': 30, 'retrieve': 96}, {'qid': 31, 'retrieve': 567}, {'qid': 32, 'retrieve': 118}, {'qid': 33, 'retrieve': 523}, {'qid': 34, 'retrieve': 220}, {'qid': 35, 'retrieve': 64}, {'qid': 36, 'retrieve': 520}, {'qid': 37, 'retrieve': 138}, {'qid': 38, 'retrieve': 138}, {'qid': 39, 'retrieve': 458}, {'qid': 40, 'retrieve': 274}, {'qid': 41, 'retrieve': 187}, {'qid': 42, 'retrieve': 187}, {'qid': 43, 'retrieve': 290}, {'qid': 44, 'retrieve': 354}, {'qid': 45, 'retrieve': 88}, {'qid': 46, 'retrieve': 2}, {'qid': 47, 'retrieve': 2}, {'qid': 48, 'retrieve': 467}, {'qid': 49, 'retrieve': 307}, {'qid': 50, 'retrieve': 181}, {'qid': 51, 'retrieve': 181}, {'qid': 52, 'retrieve': 541}, {'qid': 53, 'retrieve': 612}, {'qid': 54, 'retrieve': 378}, {'qid': 55, 'retrieve': 290}, {'qid': 56, 'retrieve': 501}, {'qid': 57, 'retrieve': 247}, {'qid': 58, 'retrieve': 334}, {'qid': 59, 'retrieve': 600}, {'qid': 60, 'retrieve': 314}, {'qid': 61, 'retrieve': 538}, {'qid': 62, 'retrieve': 215}, {'qid': 63, 'retrieve': 372}, {'qid': 64, 'retrieve': 372}, {'qid': 65, 'retrieve': 41}, {'qid': 66, 'retrieve': 41}, {'qid': 67, 'retrieve': 235}, {'qid': 68, 'retrieve': 235}, {'qid': 69, 'retrieve': 190}, {'qid': 70, 'retrieve': 130}, {'qid': 71, 'retrieve': 290}, {'qid': 72, 'retrieve': 474}, {'qid': 73, 'retrieve': 474}, {'qid': 74, 'retrieve': 237}, {'qid': 75, 'retrieve': 251}, {'qid': 76, 'retrieve': 87}, {'qid': 77, 'retrieve': 87}, {'qid': 78, 'retrieve': 331}, {'qid': 79, 'retrieve': 378}, {'qid': 80, 'retrieve': 88}, {'qid': 81, 'retrieve': 304}, {'qid': 82, 'retrieve': 383}, {'qid': 83, 'retrieve': 197}, {'qid': 84, 'retrieve': 383}, {'qid': 85, 'retrieve': 584}, {'qid': 86, 'retrieve': 95}, {'qid': 87, 'retrieve': 385}, {'qid': 88, 'retrieve': 194}, {'qid': 89, 'retrieve': 433}, {'qid': 90, 'retrieve': 433}, {'qid': 91, 'retrieve': 405}, {'qid': 92, 'retrieve': 157}, {'qid': 93, 'retrieve': 294}, {'qid': 94, 'retrieve': 340}, {'qid': 95, 'retrieve': 611}, {'qid': 96, 'retrieve': 119}, {'qid': 97, 'retrieve': 584}, {'qid': 98, 'retrieve': 385}, {'qid': 99, 'retrieve': 95}, {'qid': 100, 'retrieve': 296}, {'qid': 101, 'retrieve': 494}, {'qid': 102, 'retrieve': 226}, {'qid': 103, 'retrieve': 163}, {'qid': 104, 'retrieve': 95}, {'qid': 105, 'retrieve': 59}, {'qid': 106, 'retrieve': 611}, {'qid': 107, 'retrieve': 340}, {'qid': 108, 'retrieve': 318}, {'qid': 109, 'retrieve': 570}, {'qid': 110, 'retrieve': 503}, {'qid': 111, 'retrieve': 46}, {'qid': 112, 'retrieve': 95}, {'qid': 113, 'retrieve': 471}, {'qid': 114, 'retrieve': 168}, {'qid': 115, 'retrieve': 84}, {'qid': 116, 'retrieve': 516}, {'qid': 117, 'retrieve': 106}, {'qid': 118, 'retrieve': 95}, {'qid': 119, 'retrieve': 579}, {'qid': 120, 'retrieve': 318}, {'qid': 121, 'retrieve': 124}, {'qid': 122, 'retrieve': 494}, {'qid': 123, 'retrieve': 167}, {'qid': 124, 'retrieve': 167}, {'qid': 125, 'retrieve': 584}, {'qid': 126, 'retrieve': 95}, {'qid': 127, 'retrieve': 95}, {'qid': 128, 'retrieve': 46}, {'qid': 129, 'retrieve': 557}, {'qid': 130, 'retrieve': 197}, {'qid': 131, 'retrieve': 296}, {'qid': 132, 'retrieve': 470}, {'qid': 133, 'retrieve': 584}, {'qid': 134, 'retrieve': 95}, {'qid': 135, 'retrieve': 95}, {'qid': 136, 'retrieve': 494}, {'qid': 137, 'retrieve': 163}, {'qid': 138, 'retrieve': 197}, {'qid': 139, 'retrieve': 95}, {'qid': 140, 'retrieve': 579}, {'qid': 141, 'retrieve': 433}, {'qid': 142, 'retrieve': 494}, {'qid': 143, 'retrieve': 85}, {'qid': 144, 'retrieve': 471}, {'qid': 145, 'retrieve': 197}, {'qid': 146, 'retrieve': 385}, {'qid': 147, 'retrieve': 485}, {'qid': 148, 'retrieve': 132}, {'qid': 149, 'retrieve': 611}, {'qid': 150, 'retrieve': 143}, {'qid': 151, 'retrieve': 500}, {'qid': 152, 'retrieve': 95}, {'qid': 153, 'retrieve': 579}, {'qid': 154, 'retrieve': 97}, {'qid': 155, 'retrieve': 579}, {'qid': 156, 'retrieve': 168}, {'qid': 157, 'retrieve': 559}, {'qid': 158, 'retrieve': 85}, {'qid': 159, 'retrieve': 166}, {'qid': 160, 'retrieve': 95}, {'qid': 161, 'retrieve': 318}, {'qid': 162, 'retrieve': 296}, {'qid': 163, 'retrieve': 517}, {'qid': 164, 'retrieve': 106}, {'qid': 165, 'retrieve': 57}, {'qid': 166, 'retrieve': 589}, {'qid': 167, 'retrieve': 73}, {'qid': 168, 'retrieve': 340}, {'qid': 169, 'retrieve': 95}, {'qid': 170, 'retrieve': 318}, {'qid': 171, 'retrieve': 473}, {'qid': 172, 'retrieve': 300}, {'qid': 173, 'retrieve': 300}, {'qid': 174, 'retrieve': 575}, {'qid': 175, 'retrieve': 318}, {'qid': 176, 'retrieve': 570}, {'qid': 177, 'retrieve': 584}, {'qid': 178, 'retrieve': 95}, {'qid': 179, 'retrieve': 340}, {'qid': 180, 'retrieve': 340}, {'qid': 181, 'retrieve': 597}, {'qid': 182, 'retrieve': 95}, {'qid': 183, 'retrieve': 346}, {'qid': 184, 'retrieve': 433}, {'qid': 185, 'retrieve': 157}, {'qid': 186, 'retrieve': 149}, {'qid': 187, 'retrieve': 357}, {'qid': 188, 'retrieve': 357}, {'qid': 189, 'retrieve': 69}, {'qid': 190, 'retrieve': 236}, {'qid': 191, 'retrieve': 348}, {'qid': 192, 'retrieve': 441}, {'qid': 193, 'retrieve': 279}, {'qid': 194, 'retrieve': 182}, {'qid': 195, 'retrieve': 20}, {'qid': 196, 'retrieve': 431}, {'qid': 197, 'retrieve': 357}, {'qid': 198, 'retrieve': 431}, {'qid': 199, 'retrieve': 379}, {'qid': 200, 'retrieve': 379}, {'qid': 201, 'retrieve': 379}, {'qid': 202, 'retrieve': 317}, {'qid': 203, 'retrieve': 80}, {'qid': 204, 'retrieve': 531}, {'qid': 205, 'retrieve': 366}, {'qid': 206, 'retrieve': 483}, {'qid': 207, 'retrieve': 623}, {'qid': 208, 'retrieve': 242}, {'qid': 209, 'retrieve': 14}, {'qid': 210, 'retrieve': 223}, {'qid': 211, 'retrieve': 613}, {'qid': 212, 'retrieve': 207}, {'qid': 213, 'retrieve': 404}, {'qid': 214, 'retrieve': 526}, {'qid': 215, 'retrieve': 539}, {'qid': 216, 'retrieve': 244}, {'qid': 217, 'retrieve': 506}, {'qid': 218, 'retrieve': 569}, {'qid': 219, 'retrieve': 116}, {'qid': 220, 'retrieve': 518}, {'qid': 221, 'retrieve': 518}, {'qid': 222, 'retrieve': 407}, {'qid': 223, 'retrieve': 546}, {'qid': 224, 'retrieve': 120}, {'qid': 225, 'retrieve': 366}, {'qid': 226, 'retrieve': 114}, {'qid': 227, 'retrieve': 627}, {'qid': 228, 'retrieve': 606}, {'qid': 229, 'retrieve': 431}, {'qid': 230, 'retrieve': 51}, {'qid': 231, 'retrieve': 47}, {'qid': 232, 'retrieve': 540}, {'qid': 233, 'retrieve': 36}, {'qid': 234, 'retrieve': 279}, {'qid': 235, 'retrieve': 66}, {'qid': 236, 'retrieve': 569}, {'qid': 237, 'retrieve': 99}, {'qid': 238, 'retrieve': 32}, {'qid': 239, 'retrieve': 32}, {'qid': 240, 'retrieve': 66}, {'qid': 241, 'retrieve': 439}, {'qid': 242, 'retrieve': 93}, {'qid': 243, 'retrieve': 591}, {'qid': 244, 'retrieve': 486}, {'qid': 245, 'retrieve': 325}, {'qid': 246, 'retrieve': 279}, {'qid': 247, 'retrieve': 440}, {'qid': 248, 'retrieve': 440}, {'qid': 249, 'retrieve': 66}, {'qid': 250, 'retrieve': 539}, {'qid': 251, 'retrieve': 344}, {'qid': 252, 'retrieve': 185}, {'qid': 253, 'retrieve': 60}, {'qid': 254, 'retrieve': 366}, {'qid': 255, 'retrieve': 338}, {'qid': 256, 'retrieve': 620}, {'qid': 257, 'retrieve': 568}, {'qid': 258, 'retrieve': 408}, {'qid': 259, 'retrieve': 256}, {'qid': 260, 'retrieve': 254}, {'qid': 261, 'retrieve': 120}, {'qid': 262, 'retrieve': 139}, {'qid': 263, 'retrieve': 435}, {'qid': 264, 'retrieve': 435}, {'qid': 265, 'retrieve': 322}, {'qid': 266, 'retrieve': 524}, {'qid': 267, 'retrieve': 524}, {'qid': 268, 'retrieve': 357}, {'qid': 269, 'retrieve': 415}, {'qid': 270, 'retrieve': 78}, {'qid': 271, 'retrieve': 337}, {'qid': 272, 'retrieve': 362}, {'qid': 273, 'retrieve': 275}, {'qid': 274, 'retrieve': 202}, {'qid': 275, 'retrieve': 528}, {'qid': 276, 'retrieve': 528}, {'qid': 277, 'retrieve': 134}, {'qid': 278, 'retrieve': 384}, {'qid': 279, 'retrieve': 199}, {'qid': 280, 'retrieve': 343}, {'qid': 281, 'retrieve': 279}, {'qid': 282, 'retrieve': 66}, {'qid': 283, 'retrieve': 603}, {'qid': 284, 'retrieve': 234}, {'qid': 285, 'retrieve': 495}, {'qid': 286, 'retrieve': 368}, {'qid': 287, 'retrieve': 368}, {'qid': 288, 'retrieve': 508}, {'qid': 289, 'retrieve': 547}, {'qid': 290, 'retrieve': 489}, {'qid': 291, 'retrieve': 489}, {'qid': 292, 'retrieve': 581}, {'qid': 293, 'retrieve': 153}, {'qid': 294, 'retrieve': 499}, {'qid': 295, 'retrieve': 499}, {'qid': 296, 'retrieve': 284}, {'qid': 297, 'retrieve': 227}, {'qid': 298, 'retrieve': 640}, {'qid': 299, 'retrieve': 547}, {'qid': 300, 'retrieve': 136}, {'qid': 301, 'retrieve': 328}, {'qid': 302, 'retrieve': 902}, {'qid': 303, 'retrieve': 920}, {'qid': 304, 'retrieve': 142}, {'qid': 305, 'retrieve': 820}, {'qid': 306, 'retrieve': 786}, {'qid': 307, 'retrieve': 309}, {'qid': 308, 'retrieve': 54}, {'qid': 309, 'retrieve': 948}, {'qid': 310, 'retrieve': 456}, {'qid': 311, 'retrieve': 545}, {'qid': 312, 'retrieve': 72}, {'qid': 313, 'retrieve': 763}, {'qid': 314, 'retrieve': 638}, {'qid': 315, 'retrieve': 969}, {'qid': 316, 'retrieve': 265}, {'qid': 317, 'retrieve': 89}, {'qid': 318, 'retrieve': 325}, {'qid': 319, 'retrieve': 723}, {'qid': 320, 'retrieve': 193}, {'qid': 321, 'retrieve': 698}, {'qid': 322, 'retrieve': 26}, {'qid': 323, 'retrieve': 57}, {'qid': 324, 'retrieve': 233}, {'qid': 325, 'retrieve': 196}, {'qid': 326, 'retrieve': 735}, {'qid': 327, 'retrieve': 305}, {'qid': 328, 'retrieve': 462}, {'qid': 329, 'retrieve': 460}, {'qid': 330, 'retrieve': 252}, {'qid': 331, 'retrieve': 740}, {'qid': 332, 'retrieve': 454}, {'qid': 333, 'retrieve': 203}, {'qid': 334, 'retrieve': 751}, {'qid': 335, 'retrieve': 27}, {'qid': 336, 'retrieve': 733}, {'qid': 337, 'retrieve': 956}, {'qid': 338, 'retrieve': 10}, {'qid': 339, 'retrieve': 350}, {'qid': 340, 'retrieve': 868}, {'qid': 341, 'retrieve': 112}, {'qid': 342, 'retrieve': 190}, {'qid': 343, 'retrieve': 436}, {'qid': 344, 'retrieve': 907}, {'qid': 345, 'retrieve': 232}, {'qid': 346, 'retrieve': 831}, {'qid': 347, 'retrieve': 38}, {'qid': 348, 'retrieve': 18}, {'qid': 349, 'retrieve': 445}, {'qid': 350, 'retrieve': 562}, {'qid': 351, 'retrieve': 52}, {'qid': 352, 'retrieve': 534}, {'qid': 353, 'retrieve': 88}, {'qid': 354, 'retrieve': 809}, {'qid': 355, 'retrieve': 247}, {'qid': 356, 'retrieve': 858}, {'qid': 357, 'retrieve': 400}, {'qid': 358, 'retrieve': 182}, {'qid': 359, 'retrieve': 707}, {'qid': 360, 'retrieve': 814}, {'qid': 361, 'retrieve': 826}, {'qid': 362, 'retrieve': 149}, {'qid': 363, 'retrieve': 249}, {'qid': 364, 'retrieve': 877}, {'qid': 365, 'retrieve': 719}, {'qid': 366, 'retrieve': 530}, {'qid': 367, 'retrieve': 722}, {'qid': 368, 'retrieve': 860}, {'qid': 369, 'retrieve': 464}, {'qid': 370, 'retrieve': 410}, {'qid': 371, 'retrieve': 249}, {'qid': 372, 'retrieve': 1030}, {'qid': 373, 'retrieve': 50}, {'qid': 374, 'retrieve': 434}, {'qid': 375, 'retrieve': 334}, {'qid': 376, 'retrieve': 378}, {'qid': 377, 'retrieve': 293}, {'qid': 378, 'retrieve': 275}, {'qid': 379, 'retrieve': 60}, {'qid': 380, 'retrieve': 412}, {'qid': 381, 'retrieve': 415}, {'qid': 382, 'retrieve': 912}, {'qid': 383, 'retrieve': 956}, {'qid': 384, 'retrieve': 800}, {'qid': 385, 'retrieve': 692}, {'qid': 386, 'retrieve': 429}, {'qid': 387, 'retrieve': 517}, {'qid': 388, 'retrieve': 393}, {'qid': 389, 'retrieve': 688}, {'qid': 390, 'retrieve': 214}, {'qid': 391, 'retrieve': 1029}, {'qid': 392, 'retrieve': 284}, {'qid': 393, 'retrieve': 892}, {'qid': 394, 'retrieve': 481}, {'qid': 395, 'retrieve': 998}, {'qid': 396, 'retrieve': 1017}, {'qid': 397, 'retrieve': 450}, {'qid': 398, 'retrieve': 992}, {'qid': 399, 'retrieve': 342}, {'qid': 400, 'retrieve': 970}, {'qid': 401, 'retrieve': 177}, {'qid': 402, 'retrieve': 816}, {'qid': 403, 'retrieve': 529}, {'qid': 404, 'retrieve': 393}, {'qid': 405, 'retrieve': 331}, {'qid': 406, 'retrieve': 732}, {'qid': 407, 'retrieve': 230}, {'qid': 408, 'retrieve': 386}, {'qid': 409, 'retrieve': 963}, {'qid': 410, 'retrieve': 1019}, {'qid': 411, 'retrieve': 367}, {'qid': 412, 'retrieve': 816}, {'qid': 413, 'retrieve': 584}, {'qid': 414, 'retrieve': 792}, {'qid': 415, 'retrieve': 783}, {'qid': 416, 'retrieve': 650}, {'qid': 417, 'retrieve': 910}, {'qid': 418, 'retrieve': 697}, {'qid': 419, 'retrieve': 282}, {'qid': 420, 'retrieve': 1011}, {'qid': 421, 'retrieve': 723}, {'qid': 422, 'retrieve': 590}, {'qid': 423, 'retrieve': 527}, {'qid': 424, 'retrieve': 899}, {'qid': 425, 'retrieve': 588}, {'qid': 426, 'retrieve': 802}, {'qid': 427, 'retrieve': 7}, {'qid': 428, 'retrieve': 315}, {'qid': 429, 'retrieve': 756}, {'qid': 430, 'retrieve': 75}, {'qid': 431, 'retrieve': 816}, {'qid': 432, 'retrieve': 120}, {'qid': 433, 'retrieve': 272}, {'qid': 434, 'retrieve': 443}, {'qid': 435, 'retrieve': 938}, {'qid': 436, 'retrieve': 951}, {'qid': 437, 'retrieve': 93}, {'qid': 438, 'retrieve': 648}, {'qid': 439, 'retrieve': 554}, {'qid': 440, 'retrieve': 1028}, {'qid': 441, 'retrieve': 808}, {'qid': 442, 'retrieve': 376}, {'qid': 443, 'retrieve': 222}, {'qid': 444, 'retrieve': 806}, {'qid': 445, 'retrieve': 838}, {'qid': 446, 'retrieve': 586}, {'qid': 447, 'retrieve': 917}, {'qid': 448, 'retrieve': 906}, {'qid': 449, 'retrieve': 503}, {'qid': 450, 'retrieve': 379}, {'qid': 451, 'retrieve': 721}, {'qid': 452, 'retrieve': 523}, {'qid': 453, 'retrieve': 281}, {'qid': 454, 'retrieve': 951}, {'qid': 455, 'retrieve': 405}, {'qid': 456, 'retrieve': 813}, {'qid': 457, 'retrieve': 243}, {'qid': 458, 'retrieve': 419}, {'qid': 459, 'retrieve': 913}, {'qid': 460, 'retrieve': 820}, {'qid': 461, 'retrieve': 600}, {'qid': 462, 'retrieve': 329}, {'qid': 463, 'retrieve': 847}, {'qid': 464, 'retrieve': 411}, {'qid': 465, 'retrieve': 251}, {'qid': 466, 'retrieve': 411}, {'qid': 467, 'retrieve': 971}, {'qid': 468, 'retrieve': 95}, {'qid': 469, 'retrieve': 13}, {'qid': 470, 'retrieve': 921}, {'qid': 471, 'retrieve': 425}, {'qid': 472, 'retrieve': 588}, {'qid': 473, 'retrieve': 408}, {'qid': 474, 'retrieve': 635}, {'qid': 475, 'retrieve': 68}, {'qid': 476, 'retrieve': 504}, {'qid': 477, 'retrieve': 924}, {'qid': 478, 'retrieve': 821}, {'qid': 479, 'retrieve': 14}, {'qid': 480, 'retrieve': 557}, {'qid': 481, 'retrieve': 914}, {'qid': 482, 'retrieve': 576}, {'qid': 483, 'retrieve': 605}, {'qid': 484, 'retrieve': 1011}, {'qid': 485, 'retrieve': 205}, {'qid': 486, 'retrieve': 866}, {'qid': 487, 'retrieve': 52}, {'qid': 488, 'retrieve': 727}, {'qid': 489, 'retrieve': 956}, {'qid': 490, 'retrieve': 901}, {'qid': 491, 'retrieve': 324}, {'qid': 492, 'retrieve': 515}, {'qid': 493, 'retrieve': 141}, {'qid': 494, 'retrieve': 742}, {'qid': 495, 'retrieve': 625}, {'qid': 496, 'retrieve': 870}, {'qid': 497, 'retrieve': 16}, {'qid': 498, 'retrieve': 760}, {'qid': 499, 'retrieve': 224}, {'qid': 500, 'retrieve': 916}, {'qid': 501, 'retrieve': 94}, {'qid': 502, 'retrieve': 696}, {'qid': 503, 'retrieve': 199}, {'qid': 504, 'retrieve': 882}, {'qid': 505, 'retrieve': 208}, {'qid': 506, 'retrieve': 766}, {'qid': 507, 'retrieve': 34}, {'qid': 508, 'retrieve': 719}, {'qid': 509, 'retrieve': 351}, {'qid': 510, 'retrieve': 513}, {'qid': 511, 'retrieve': 598}, {'qid': 512, 'retrieve': 887}, {'qid': 513, 'retrieve': 31}, {'qid': 514, 'retrieve': 547}, {'qid': 515, 'retrieve': 508}, {'qid': 516, 'retrieve': 559}, {'qid': 517, 'retrieve': 137}, {'qid': 518, 'retrieve': 296}, {'qid': 519, 'retrieve': 989}, {'qid': 520, 'retrieve': 506}, {'qid': 521, 'retrieve': 175}, {'qid': 522, 'retrieve': 250}, {'qid': 523, 'retrieve': 121}, {'qid': 524, 'retrieve': 105}, {'qid': 525, 'retrieve': 7}, {'qid': 526, 'retrieve': 1027}, {'qid': 527, 'retrieve': 473}, {'qid': 528, 'retrieve': 297}, {'qid': 529, 'retrieve': 616}, {'qid': 530, 'retrieve': 749}, {'qid': 531, 'retrieve': 867}, {'qid': 532, 'retrieve': 916}, {'qid': 533, 'retrieve': 750}, {'qid': 534, 'retrieve': 399}, {'qid': 535, 'retrieve': 379}, {'qid': 536, 'retrieve': 809}, {'qid': 537, 'retrieve': 204}, {'qid': 538, 'retrieve': 905}, {'qid': 539, 'retrieve': 999}, {'qid': 540, 'retrieve': 779}, {'qid': 541, 'retrieve': 1008}, {'qid': 542, 'retrieve': 844}, {'qid': 543, 'retrieve': 564}, {'qid': 544, 'retrieve': 909}, {'qid': 545, 'retrieve': 294}, {'qid': 546, 'retrieve': 426}, {'qid': 547, 'retrieve': 887}, {'qid': 548, 'retrieve': 371}, {'qid': 549, 'retrieve': 194}, {'qid': 550, 'retrieve': 51}, {'qid': 551, 'retrieve': 55}, {'qid': 552, 'retrieve': 471}, {'qid': 553, 'retrieve': 556}, {'qid': 554, 'retrieve': 585}, {'qid': 555, 'retrieve': 363}, {'qid': 556, 'retrieve': 174}, {'qid': 557, 'retrieve': 861}, {'qid': 558, 'retrieve': 920}, {'qid': 559, 'retrieve': 865}, {'qid': 560, 'retrieve': 503}, {'qid': 561, 'retrieve': 658}, {'qid': 562, 'retrieve': 763}, {'qid': 563, 'retrieve': 75}, {'qid': 564, 'retrieve': 564}, {'qid': 565, 'retrieve': 342}, {'qid': 566, 'retrieve': 935}, {'qid': 567, 'retrieve': 802}, {'qid': 568, 'retrieve': 196}, {'qid': 569, 'retrieve': 665}, {'qid': 570, 'retrieve': 252}, {'qid': 571, 'retrieve': 46}, {'qid': 572, 'retrieve': 201}, {'qid': 573, 'retrieve': 934}, {'qid': 574, 'retrieve': 150}]\n"
     ]
    }
   ],
   "source": [
    "len(results)\n",
    "\n",
    "print(results)"
   ]
  },
  {
   "cell_type": "code",
   "execution_count": 15,
   "metadata": {},
   "outputs": [
    {
     "name": "stdout",
     "output_type": "stream",
     "text": [
      "Predictions saved to new.json\n"
     ]
    }
   ],
   "source": [
    "save_predictions_to_json(results, \"new.json\")"
   ]
  },
  {
   "cell_type": "code",
   "execution_count": 13,
   "metadata": {},
   "outputs": [
    {
     "name": "stdout",
     "output_type": "stream",
     "text": [
      "qid: 2, predict: 258, ans: 428\n",
      "qid: 4, predict: 179, ans: 186\n",
      "qid: 50, predict: 555, ans: 78\n",
      "qid: 59, predict: 639, ans: 632\n",
      "qid: 64, predict: 706, ans: 124\n",
      "qid: 72, predict: 497, ans: 204\n",
      "qid: 80, predict: 386, ans: 213\n",
      "qid: 86, predict: 757, ans: 189\n",
      "qid: 94, predict: 481, ans: 699\n",
      "qid: 97, predict: 579, ans: 282\n",
      "qid: 109, predict: 234, ans: 283\n",
      "qid: 135, predict: 399, ans: 28\n",
      "0.92\n"
     ]
    }
   ],
   "source": [
    "#check\n",
    "\n",
    "# ans = read_json(ANS_PATH)['ground_truths']\n",
    "# pred_retrieve = read_json('pred_retrieve.json')['answers']\n",
    "# correct = 0\n",
    "# total = 0\n",
    "# for i in range(len(ans)):\n",
    "#     if ans[i]['retrieve'] != pred_retrieve[i]['retrieve']:\n",
    "#         print(f\"qid: {i + 1}, predict: {pred_retrieve[i]['retrieve']}, ans: {ans[i]['retrieve']}\")\n",
    "#     else:\n",
    "#         correct += 1\n",
    "#     total += 1\n",
    "# print(correct / total)"
   ]
  },
  {
   "cell_type": "code",
   "execution_count": null,
   "metadata": {},
   "outputs": [],
   "source": []
  }
 ],
 "metadata": {
  "kernelspec": {
   "display_name": "rag",
   "language": "python",
   "name": "python3"
  },
  "language_info": {
   "codemirror_mode": {
    "name": "ipython",
    "version": 3
   },
   "file_extension": ".py",
   "mimetype": "text/x-python",
   "name": "python",
   "nbconvert_exporter": "python",
   "pygments_lexer": "ipython3",
   "version": "3.12.5"
  }
 },
 "nbformat": 4,
 "nbformat_minor": 2
}
