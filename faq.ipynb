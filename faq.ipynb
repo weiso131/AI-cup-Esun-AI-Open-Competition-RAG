{
 "cells": [
  {
   "cell_type": "code",
   "execution_count": 132,
   "metadata": {},
   "outputs": [],
   "source": [
    "from utils.read_file import *"
   ]
  },
  {
   "cell_type": "code",
   "execution_count": 133,
   "metadata": {},
   "outputs": [],
   "source": [
    "QUESTION_PATH = \"競賽資料集/dataset/preliminary/questions_example.json\"\n",
    "\n",
    "FAQ_PATH = \"競賽資料集/reference/faq/pid_map_content.json\"\n",
    "ANS_PATH = \"競賽資料集/dataset/preliminary/ground_truths_example.json\""
   ]
  },
  {
   "cell_type": "code",
   "execution_count": 134,
   "metadata": {},
   "outputs": [],
   "source": [
    "faq_data = read_json(FAQ_PATH)\n",
    "question_data = read_json(QUESTION_PATH)[\"questions\"]\n",
    "#ans = read_json(ANS_PATH)[\"ground_truths\"]"
   ]
  },
  {
   "cell_type": "code",
   "execution_count": 135,
   "metadata": {},
   "outputs": [],
   "source": [
    "from utils.read_file import read_target_faq"
   ]
  },
  {
   "cell_type": "code",
   "execution_count": 136,
   "metadata": {},
   "outputs": [],
   "source": [
    "from rank_bm25 import BM25Okapi\n",
    "import numpy as np\n",
    "import jieba\n",
    "def get_ans_bm25(question_data: dict, documents: list, k=1):\n",
    "    tokenized_documents = [list(jieba.cut(doc)) for doc in documents]\n",
    "    bm25 = BM25Okapi(tokenized_documents)\n",
    "    \n",
    "    user_query = list(jieba.cut(question_data[\"query\"]))\n",
    "    scores = bm25.get_scores(user_query)\n",
    "    \n",
    "    k_highest = np.argsort(scores)[-k:][::-1]\n",
    "    return k_highest, np.sort(scores)[::-1][:k]"
   ]
  },
  {
   "cell_type": "code",
   "execution_count": 148,
   "metadata": {},
   "outputs": [],
   "source": [
    "def validate_faq(question_data):\n",
    "    ans = read_json(ANS_PATH)[\"ground_truths\"]\n",
    "    correct = 0\n",
    "    half_correct = 0\n",
    "\n",
    "    for i in range(100, 150):\n",
    "        #print(ans[i][\"retrieve\"])\n",
    "        src = question_data[i][\"source\"]\n",
    "        #print(question_data[i][\"qid\"])\n",
    "        #print(src)\n",
    "        document_texts= read_target_faq(faq_data, src)\n",
    "        k_highest, similarities = get_ans_bm25(question_data[i], document_texts, k=1)\n",
    "        \n",
    "        # 取得最相關的 FAQ 文檔索引\n",
    "        top_faq_id = src[k_highest[0]]\n",
    "\n",
    "        if top_faq_id == ans[i][\"retrieve\"]:\n",
    "            correct += 1\n",
    "        elif any(faq_id == ans[i][\"retrieve\"] for faq_id in k_highest[:3]):\n",
    "            half_correct += 1\n",
    "        if top_faq_id != ans[i][\"retrieve\"]:\n",
    "            print(i+1)\n",
    "            print(f\"faq_id {top_faq_id}\")\n",
    "    # 輸出準確率統計結果\n",
    "    total_questions = 50  # 驗證的問題數量: 50\n",
    "    print(f\"正確回答數量: {correct}\")\n",
    "    print(f\"部分正確回答數量: {half_correct}\")\n",
    "    print(f\"總回答數量: {total_questions}\")\n",
    "    print(f\"準確率: {correct / total_questions:.2%}\")\n",
    "    print(f\"部分準確率: {half_correct / total_questions:.2%}\")\n"
   ]
  },
  {
   "cell_type": "code",
   "execution_count": 149,
   "metadata": {},
   "outputs": [
    {
     "name": "stdout",
     "output_type": "stream",
     "text": [
      "109\n",
      "faq_id 409\n",
      "128\n",
      "faq_id 293\n",
      "135\n",
      "faq_id 431\n",
      "144\n",
      "faq_id 542\n",
      "148\n",
      "faq_id 420\n",
      "正確回答數量: 45\n",
      "部分正確回答數量: 0\n",
      "總回答數量: 50\n",
      "準確率: 90.00%\n",
      "部分準確率: 0.00%\n"
     ]
    }
   ],
   "source": [
    "validate_faq(question_data)"
   ]
  }
 ],
 "metadata": {
  "kernelspec": {
   "display_name": "Python 3",
   "language": "python",
   "name": "python3"
  },
  "language_info": {
   "codemirror_mode": {
    "name": "ipython",
    "version": 3
   },
   "file_extension": ".py",
   "mimetype": "text/x-python",
   "name": "python",
   "nbconvert_exporter": "python",
   "pygments_lexer": "ipython3",
   "version": "3.12.7"
  }
 },
 "nbformat": 4,
 "nbformat_minor": 2
}
