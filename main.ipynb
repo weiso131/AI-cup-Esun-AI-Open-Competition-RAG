{
 "cells": [
  {
   "cell_type": "code",
   "execution_count": 1,
   "metadata": {},
   "outputs": [],
   "source": [
    "from utils.read_file import *"
   ]
  },
  {
   "cell_type": "code",
   "execution_count": 2,
   "metadata": {},
   "outputs": [],
   "source": [
    "QUESTION_PATH = \"競賽資料集/dataset/preliminary/questions_example.json\"\n",
    "\n",
    "INSURANCE_PATH = \"競賽資料集/reference/insurance\"\n",
    "FAQ_PATH = \"競賽資料集/reference/faq/pid_map_content.json\"\n",
    "ANS_PATH = \"競賽資料集/dataset/preliminary/ground_truths_example.json\""
   ]
  },
  {
   "cell_type": "code",
   "execution_count": 3,
   "metadata": {},
   "outputs": [],
   "source": [
    "question = read_json(QUESTION_PATH)[\"questions\"]"
   ]
  },
  {
   "cell_type": "code",
   "execution_count": 4,
   "metadata": {},
   "outputs": [],
   "source": [
    "# from huggingface_hub import snapshot_download\n",
    "\n",
    "# # 下載模型到指定路徑\n",
    "# local_model_path = \"./models/bge-m3\"\n",
    "# snapshot_download(repo_id=\"BAAI/bge-m3\", revision=\"main\", local_dir=local_model_path)"
   ]
  },
  {
   "cell_type": "code",
   "execution_count": 5,
   "metadata": {},
   "outputs": [
    {
     "name": "stderr",
     "output_type": "stream",
     "text": [
      "c:\\Users\\weiso131\\anaconda3\\envs\\rag\\Lib\\site-packages\\sentence_transformers\\cross_encoder\\CrossEncoder.py:13: TqdmWarning: IProgress not found. Please update jupyter and ipywidgets. See https://ipywidgets.readthedocs.io/en/stable/user_install.html\n",
      "  from tqdm.autonotebook import tqdm, trange\n"
     ]
    }
   ],
   "source": [
    "from sentence_transformers import SentenceTransformer\n",
    "\n",
    "# 加載模型\n",
    "embbeded_model = SentenceTransformer(\"./models/bge-m3\", device='cuda')"
   ]
  },
  {
   "cell_type": "code",
   "execution_count": 31,
   "metadata": {},
   "outputs": [],
   "source": [
    "from sklearn.metrics.pairwise import cosine_similarity\n",
    "import numpy as np\n",
    "\n",
    "def get_ans(embedded_model, question_data: dict, documents: list, k=1):\n",
    "    document_ebeddings = embedded_model.encode(documents)\n",
    "\n",
    "    # 使用者查詢\n",
    "    user_query = question_data[\"query\"]\n",
    "\n",
    "    # 查詢文本轉換成嵌入向量\n",
    "    query_embedding = embbeded_model.encode([user_query])\n",
    "\n",
    "    # 計算相似度\n",
    "    similarities = cosine_similarity(query_embedding, document_ebeddings)\n",
    "    k_highest = np.argsort(similarities[0])[-k:][::-1]\n",
    "    return k_highest, np.sort(similarities[0])[::-1][:k]"
   ]
  },
  {
   "cell_type": "code",
   "execution_count": 7,
   "metadata": {},
   "outputs": [],
   "source": [
    "\n",
    "\n",
    "\n",
    "def validate_faq(embbeded_model, question):\n",
    "    faq = read_json(FAQ_PATH)\n",
    "    ans = read_json(ANS_PATH)\n",
    "    correct = 0\n",
    "    for i in range(100, 150):\n",
    "        document = read_target_faq(faq, question[i][\"source\"])\n",
    "        k_highest, _ = get_ans(embbeded_model, question[i], document)\n",
    "        predict = question[i][\"source\"][k_highest[0]]\n",
    "        if (predict == ans[\"ground_truths\"][i][\"retrieve\"]):\n",
    "            correct += 1\n",
    "        else:\n",
    "            print(f\"qid: {i + 1}, predict: {predict}, ans: {ans[\"ground_truths\"][i][\"retrieve\"]}\")\n",
    "    return correct / 50"
   ]
  },
  {
   "cell_type": "markdown",
   "metadata": {},
   "source": [
    "### 驗證faq資料集的正確率"
   ]
  },
  {
   "cell_type": "code",
   "execution_count": 8,
   "metadata": {},
   "outputs": [],
   "source": [
    "validate_faq(embbeded_model, question)"
   ]
  },
  {
   "cell_type": "code",
   "execution_count": 34,
   "metadata": {},
   "outputs": [],
   "source": [
    "from langchain.text_splitter import RecursiveCharacterTextSplitter\n",
    "\n",
    "text_splitter = RecursiveCharacterTextSplitter(\n",
    "    chunk_size=800,  # 每段的目標長度\n",
    "    chunk_overlap=400  # 分段間的重疊字符數\n",
    ")\n",
    "\n",
    "\n",
    "def vote_answer(all_predict: np.ndarray, similarities: np.ndarray, k=3)->int:\n",
    "    predict_similarities_total = {}\n",
    "\n",
    "    for i in range(min(len(all_predict), k)):\n",
    "        if all_predict[i] in predict_similarities_total:\n",
    "            predict_similarities_total[all_predict[i]] += similarities[i] ** 2\n",
    "        else:\n",
    "            predict_similarities_total[all_predict[i]] = similarities[i] ** 2\n",
    "    \n",
    "    max_predict = 0\n",
    "    max_simlarity = 0\n",
    "\n",
    "    for predict, similarity in predict_similarities_total.items():\n",
    "        if similarity > max_simlarity:\n",
    "            max_predict = predict\n",
    "            max_simlarity = similarity\n",
    "    \n",
    "    return max_predict\n",
    "\n",
    "    \n",
    "\n",
    "def validate_insurance(embbeded_model, question):\n",
    "    ans = read_json(ANS_PATH)\n",
    "    correct = 0\n",
    "    half_correct = 0 #答案在前五\n",
    "\n",
    "    for i in range(0, 50):\n",
    "        src = question[i][\"source\"]\n",
    "        document, order_list = read_target_insurance_pdf(INSURANCE_PATH, src)\n",
    "        tokens = []\n",
    "        chunk_real_index = []\n",
    "        for j in range(len(document)):\n",
    "            text = document[j]\n",
    "            chunks = text_splitter.split_text(text)\n",
    "            tokens.extend(chunks)\n",
    "            chunk_real_index.extend([j + k * 0 for k in range(len(chunks))])\n",
    "\n",
    "                \n",
    "        chunk_real_index=np.array(chunk_real_index)\n",
    "\n",
    "\n",
    "        token_index, similarities = get_ans(embbeded_model, question[i], tokens, 5)\n",
    "        real_index = chunk_real_index[token_index]\n",
    "        all_predict = order_list[real_index]\n",
    "        predict = all_predict[0]\n",
    "\n",
    "\n",
    "        if (predict == ans[\"ground_truths\"][i][\"retrieve\"]):\n",
    "            correct += 1\n",
    "        else:\n",
    "            print(f\"qid: {i + 1}, predict: {predict}, ans: {ans[\"ground_truths\"][i][\"retrieve\"]}\")\n",
    "        if (ans[\"ground_truths\"][i][\"retrieve\"] in all_predict):\n",
    "            half_correct += 1\n",
    "\n",
    "    print(f\"acc: {correct / 50 * 100} %\")\n",
    "    print(f\"in rank 5: {half_correct / 50 * 100} %\")"
   ]
  },
  {
   "cell_type": "markdown",
   "metadata": {},
   "source": [
    "### 驗證insurance資料集的正確率"
   ]
  },
  {
   "cell_type": "code",
   "execution_count": 35,
   "metadata": {},
   "outputs": [
    {
     "name": "stdout",
     "output_type": "stream",
     "text": [
      "qid: 2, predict: 258, ans: 428\n",
      "qid: 3, predict: 476, ans: 83\n",
      "qid: 4, predict: 179, ans: 186\n",
      "qid: 6, predict: 242, ans: 116\n",
      "qid: 15, predict: 526, ans: 536\n",
      "qid: 23, predict: 228, ans: 224\n",
      "qid: 28, predict: 78, ans: 298\n",
      "qid: 29, predict: 256, ans: 578\n",
      "qid: 35, predict: 224, ans: 319\n",
      "qid: 42, predict: 445, ans: 325\n",
      "qid: 49, predict: 357, ans: 482\n",
      "qid: 50, predict: 555, ans: 78\n",
      "acc: 76.0 %\n",
      "in rank 5: 90.0 %\n"
     ]
    }
   ],
   "source": [
    "validate_insurance(embbeded_model, question)"
   ]
  },
  {
   "cell_type": "code",
   "execution_count": null,
   "metadata": {},
   "outputs": [],
   "source": []
  }
 ],
 "metadata": {
  "kernelspec": {
   "display_name": "rag",
   "language": "python",
   "name": "python3"
  },
  "language_info": {
   "codemirror_mode": {
    "name": "ipython",
    "version": 3
   },
   "file_extension": ".py",
   "mimetype": "text/x-python",
   "name": "python",
   "nbconvert_exporter": "python",
   "pygments_lexer": "ipython3",
   "version": "3.12.5"
  }
 },
 "nbformat": 4,
 "nbformat_minor": 2
}
