{
 "cells": [
  {
   "cell_type": "code",
   "execution_count": 1,
   "metadata": {},
   "outputs": [],
   "source": [
    "from utils.read_file import read_target_insurance_pdf, read_json"
   ]
  },
  {
   "cell_type": "code",
   "execution_count": 8,
   "metadata": {},
   "outputs": [],
   "source": [
    "QUESTION_PATH = \"競賽資料集/dataset/preliminary/questions_example.json\"\n",
    "\n",
    "INSURANCE_PATH = \"競賽資料集/reference/insurance\"\n",
    "FAQ_PATH = \"競賽資料集/reference/faq/pid_map_content.json\"\n",
    "ANS_PATH = \"競賽資料集/dataset/preliminary/ground_truths_example.json\""
   ]
  },
  {
   "cell_type": "code",
   "execution_count": 3,
   "metadata": {},
   "outputs": [],
   "source": [
    "question = read_json(QUESTION_PATH)[\"questions\"]"
   ]
  },
  {
   "cell_type": "code",
   "execution_count": 4,
   "metadata": {},
   "outputs": [
    {
     "name": "stderr",
     "output_type": "stream",
     "text": [
      "c:\\Users\\weiso131\\anaconda3\\envs\\rag\\Lib\\site-packages\\sentence_transformers\\cross_encoder\\CrossEncoder.py:13: TqdmWarning: IProgress not found. Please update jupyter and ipywidgets. See https://ipywidgets.readthedocs.io/en/stable/user_install.html\n",
      "  from tqdm.autonotebook import tqdm, trange\n"
     ]
    }
   ],
   "source": [
    "from sentence_transformers import SentenceTransformer\n",
    "\n",
    "# 加載模型\n",
    "embbeded_model = SentenceTransformer('thenlper/gte-large-zh')"
   ]
  },
  {
   "cell_type": "code",
   "execution_count": 5,
   "metadata": {},
   "outputs": [],
   "source": [
    "from sklearn.metrics.pairwise import cosine_similarity\n",
    "import numpy as np\n",
    "\n",
    "def get_ans(embedded_model, question_data: dict, documents: list):\n",
    "    document_ebeddings = embedded_model.encode(documents)\n",
    "\n",
    "    # 使用者查詢\n",
    "    user_query = question_data[\"query\"]\n",
    "\n",
    "    # 查詢文本轉換成嵌入向量\n",
    "    query_embedding = embbeded_model.encode([user_query])\n",
    "\n",
    "    # 計算相似度\n",
    "    similarities = cosine_similarity(query_embedding, document_ebeddings)\n",
    "    \n",
    "    return question_data[\"source\"][np.argmax(similarities)]"
   ]
  },
  {
   "cell_type": "code",
   "execution_count": 14,
   "metadata": {},
   "outputs": [],
   "source": [
    "\n",
    "def generate_faq_retrieve(faq: dict, id: int) -> str:\n",
    "\n",
    "    text = \"\"\n",
    "\n",
    "    for faq_data in faq[str(id)]:\n",
    "\n",
    "        question = faq_data[\"question\"]\n",
    "        answers = faq_data[\"answers\"]\n",
    "        text += f\"問題:{question}, 回答:{answers}\\n\"\n",
    "    return text\n",
    "\n",
    "def read_target_faq(faq: dict, indexs: list) -> list:\n",
    "\n",
    "    all_texts = []\n",
    "\n",
    "    for i in indexs:\n",
    "        all_texts.append(generate_faq_retrieve(faq, i))\n",
    "    \n",
    "    return all_texts\n",
    "\n",
    "\n",
    "def validate_faq(embbeded_model, question):\n",
    "    faq = read_json(FAQ_PATH)\n",
    "    ans = read_json(ANS_PATH)\n",
    "    correct = 0\n",
    "    for i in range(100, 150):\n",
    "        document = read_target_faq(faq, question[i][\"source\"])\n",
    "        predict = get_ans(embbeded_model, question[i], document)\n",
    "        if (predict == ans[\"ground_truths\"][i][\"retrieve\"]):\n",
    "            correct += 1\n",
    "        else:\n",
    "            print(f\"qid: {i + 1}, predict: {predict}, ans: {ans[\"ground_truths\"][i][\"retrieve\"]}\")\n",
    "    return correct / 50\n"
   ]
  },
  {
   "cell_type": "markdown",
   "metadata": {},
   "source": [
    "### 驗證faq資料集的正確率"
   ]
  },
  {
   "cell_type": "code",
   "execution_count": 17,
   "metadata": {},
   "outputs": [
    {
     "name": "stdout",
     "output_type": "stream",
     "text": [
      "qid: 109, predict: 263, ans: 283\n",
      "qid: 135, predict: 399, ans: 28\n"
     ]
    },
    {
     "data": {
      "text/plain": [
       "0.96"
      ]
     },
     "execution_count": 17,
     "metadata": {},
     "output_type": "execute_result"
    }
   ],
   "source": [
    "validate_faq(embbeded_model, question)"
   ]
  },
  {
   "cell_type": "code",
   "execution_count": 18,
   "metadata": {},
   "outputs": [],
   "source": [
    "def validate_insurance(embbeded_model, question):\n",
    "    ans = read_json(ANS_PATH)\n",
    "    correct = 0\n",
    "    for i in range(0, 50):\n",
    "        src = question[i][\"source\"]\n",
    "        document = read_target_insurance_pdf(INSURANCE_PATH, src)\n",
    "        predict = get_ans(embbeded_model, question[i], document)\n",
    "        if (predict == ans[\"ground_truths\"][i][\"retrieve\"]):\n",
    "            correct += 1\n",
    "        else:\n",
    "            print(f\"qid: {i + 1}, predict: {predict}, ans: {ans[\"ground_truths\"][i][\"retrieve\"]}\")\n",
    "    return correct / 50"
   ]
  },
  {
   "cell_type": "markdown",
   "metadata": {},
   "source": [
    "### 驗證insurance資料集的正確率"
   ]
  },
  {
   "cell_type": "code",
   "execution_count": 19,
   "metadata": {},
   "outputs": [
    {
     "name": "stdout",
     "output_type": "stream",
     "text": [
      "qid: 1, predict: 51, ans: 392\n",
      "qid: 2, predict: 578, ans: 428\n",
      "qid: 5, predict: 179, ans: 162\n",
      "qid: 6, predict: 338, ans: 116\n",
      "qid: 8, predict: 244, ans: 78\n",
      "qid: 9, predict: 148, ans: 62\n",
      "qid: 11, predict: 357, ans: 7\n",
      "qid: 14, predict: 149, ans: 526\n",
      "qid: 15, predict: 337, ans: 536\n",
      "qid: 16, predict: 325, ans: 54\n",
      "qid: 17, predict: 353, ans: 606\n",
      "qid: 18, predict: 439, ans: 184\n",
      "qid: 19, predict: 172, ans: 315\n",
      "qid: 20, predict: 578, ans: 292\n",
      "qid: 21, predict: 392, ans: 36\n",
      "qid: 22, predict: 439, ans: 614\n",
      "qid: 24, predict: 625, ans: 359\n",
      "qid: 25, predict: 591, ans: 4\n",
      "qid: 26, predict: 32, ans: 147\n",
      "qid: 27, predict: 414, ans: 171\n",
      "qid: 28, predict: 258, ans: 298\n",
      "qid: 29, predict: 527, ans: 578\n",
      "qid: 30, predict: 483, ans: 327\n",
      "qid: 31, predict: 486, ans: 10\n",
      "qid: 32, predict: 351, ans: 434\n",
      "qid: 36, predict: 63, ans: 148\n",
      "qid: 37, predict: 414, ans: 148\n",
      "qid: 38, predict: 256, ans: 353\n",
      "qid: 39, predict: 578, ans: 29\n",
      "qid: 41, predict: 14, ans: 165\n",
      "qid: 42, predict: 365, ans: 325\n",
      "qid: 43, predict: 322, ans: 325\n",
      "qid: 45, predict: 35, ans: 537\n",
      "qid: 47, predict: 243, ans: 620\n",
      "qid: 48, predict: 546, ans: 8\n",
      "qid: 49, predict: 80, ans: 482\n",
      "qid: 50, predict: 365, ans: 78\n"
     ]
    },
    {
     "data": {
      "text/plain": [
       "0.26"
      ]
     },
     "execution_count": 19,
     "metadata": {},
     "output_type": "execute_result"
    }
   ],
   "source": [
    "validate_insurance(embbeded_model, question)"
   ]
  },
  {
   "cell_type": "code",
   "execution_count": null,
   "metadata": {},
   "outputs": [],
   "source": []
  }
 ],
 "metadata": {
  "kernelspec": {
   "display_name": "rag",
   "language": "python",
   "name": "python3"
  },
  "language_info": {
   "codemirror_mode": {
    "name": "ipython",
    "version": 3
   },
   "file_extension": ".py",
   "mimetype": "text/x-python",
   "name": "python",
   "nbconvert_exporter": "python",
   "pygments_lexer": "ipython3",
   "version": "3.12.5"
  }
 },
 "nbformat": 4,
 "nbformat_minor": 2
}
