{
 "cells": [
  {
   "cell_type": "code",
   "execution_count": 1,
   "metadata": {},
   "outputs": [],
   "source": [
    "from utils.read_file import read_target_insurance_pdf, read_json"
   ]
  },
  {
   "cell_type": "code",
   "execution_count": 24,
   "metadata": {},
   "outputs": [],
   "source": [
    "QUESTION_PATH = \"競賽資料集/dataset/preliminary/questions_example.json\"\n",
    "\n",
    "INSURANCE_PATH = \"競賽資料集/reference/insurance\"\n",
    "FAQ_PATH = \"競賽資料集/reference/faq/pid_map_content.json\""
   ]
  },
  {
   "cell_type": "code",
   "execution_count": 8,
   "metadata": {},
   "outputs": [
    {
     "data": {
      "text/plain": [
       "{'qid': 1,\n",
       " 'source': [442, 115, 440, 196, 431, 392, 14, 51],\n",
       " 'query': '匯款銀行及中間行所收取之相關費用由誰負擔?',\n",
       " 'category': 'insurance'}"
      ]
     },
     "execution_count": 8,
     "metadata": {},
     "output_type": "execute_result"
    }
   ],
   "source": [
    "question = read_json(QUESTION_PATH)[\"questions\"]"
   ]
  },
  {
   "cell_type": "code",
   "execution_count": 11,
   "metadata": {},
   "outputs": [
    {
     "name": "stderr",
     "output_type": "stream",
     "text": [
      "c:\\Users\\weiso131\\anaconda3\\envs\\rag\\Lib\\site-packages\\sentence_transformers\\cross_encoder\\CrossEncoder.py:13: TqdmWarning: IProgress not found. Please update jupyter and ipywidgets. See https://ipywidgets.readthedocs.io/en/stable/user_install.html\n",
      "  from tqdm.autonotebook import tqdm, trange\n"
     ]
    }
   ],
   "source": [
    "from sentence_transformers import SentenceTransformer\n",
    "\n",
    "# 加載模型\n",
    "embbeded_model = SentenceTransformer('thenlper/gte-large-zh')"
   ]
  },
  {
   "cell_type": "code",
   "execution_count": 20,
   "metadata": {},
   "outputs": [],
   "source": [
    "from sklearn.metrics.pairwise import cosine_similarity\n",
    "import numpy as np\n",
    "\n",
    "def get_ans(embedded_model, question_data: dict, documents: list):\n",
    "    document_ebeddings = embedded_model.encode(documents)\n",
    "\n",
    "    # 使用者查詢\n",
    "    user_query = question_data[\"query\"]\n",
    "\n",
    "    # 查詢文本轉換成嵌入向量\n",
    "    query_embedding = embbeded_model.encode([user_query])\n",
    "\n",
    "    # 計算相似度\n",
    "    similarities = cosine_similarity(query_embedding, document_ebeddings)\n",
    "    \n",
    "    for i in range(len(similarities[0])):\n",
    "        print(f\"{question_data[\"source\"][i]} : {similarities[0][i]}\")\n",
    "\n",
    "\n",
    "    return question_data[\"source\"][np.argmax(similarities)]"
   ]
  },
  {
   "cell_type": "code",
   "execution_count": 28,
   "metadata": {},
   "outputs": [],
   "source": [
    "faq = read_json(FAQ_PATH)\n",
    "def generate_faq_retrieve(faq: dict, id: int) -> str:\n",
    "\n",
    "    text = \"\"\n",
    "\n",
    "    for faq_data in faq[str(id)]:\n",
    "\n",
    "        question = faq_data[\"question\"]\n",
    "        answers = faq_data[\"answers\"]\n",
    "        text += f\"問題:{question}, 回答:{answers}\\n\"\n",
    "    return text\n",
    "\n",
    "def read_target_faq(faq: dict, indexs: list) -> list:\n",
    "\n",
    "    all_texts = []\n",
    "\n",
    "    for i in indexs:\n",
    "        all_texts.append(generate_faq_retrieve(faq, i))\n",
    "    \n",
    "    return all_texts"
   ]
  },
  {
   "cell_type": "code",
   "execution_count": 30,
   "metadata": {},
   "outputs": [
    {
     "name": "stdout",
     "output_type": "stream",
     "text": [
      "69 : 0.3763333559036255\n",
      "398 : 0.4597470164299011\n",
      "229 : 0.3988722562789917\n",
      "474 : 0.46297940611839294\n",
      "382 : 0.38264065980911255\n",
      "207 : 0.3546384871006012\n",
      "377 : 0.32410815358161926\n",
      "104 : 0.3161534070968628\n",
      "32 : 0.4784950017929077\n",
      "148 : 0.4518640637397766\n",
      "476 : 0.25867533683776855\n",
      "238 : 0.3116232752799988\n",
      "441 : 0.43779969215393066\n",
      "233 : 0.3853197693824768\n",
      "558 : 0.8296957015991211\n"
     ]
    },
    {
     "data": {
      "text/plain": [
       "558"
      ]
     },
     "execution_count": 30,
     "metadata": {},
     "output_type": "execute_result"
    }
   ],
   "source": [
    "\n",
    "document = read_target_faq(faq, question[100][\"source\"])\n",
    "\n",
    "get_ans(embbeded_model, question[100], document)"
   ]
  },
  {
   "cell_type": "code",
   "execution_count": null,
   "metadata": {},
   "outputs": [],
   "source": []
  }
 ],
 "metadata": {
  "kernelspec": {
   "display_name": "rag",
   "language": "python",
   "name": "python3"
  },
  "language_info": {
   "codemirror_mode": {
    "name": "ipython",
    "version": 3
   },
   "file_extension": ".py",
   "mimetype": "text/x-python",
   "name": "python",
   "nbconvert_exporter": "python",
   "pygments_lexer": "ipython3",
   "version": "3.12.5"
  }
 },
 "nbformat": 4,
 "nbformat_minor": 2
}
