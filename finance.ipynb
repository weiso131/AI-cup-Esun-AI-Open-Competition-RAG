{
 "cells": [
  {
   "cell_type": "code",
   "execution_count": 1,
   "metadata": {},
   "outputs": [],
   "source": [
    "from utils.read_file import *\n",
    "from utils.model_tool import *"
   ]
  },
  {
   "cell_type": "code",
   "execution_count": 2,
   "metadata": {},
   "outputs": [],
   "source": [
    "QUESTION_PATH = \"競賽資料集/dataset/preliminary/questions_example.json\"\n",
    "\n",
    "INSURANCE_PATH = \"競賽資料集/reference/insurance\"\n",
    "\n",
    "FAQ_PATH = \"競賽資料集/reference/faq/pid_map_content.json\"\n",
    "ANS_PATH = \"競賽資料集/dataset/preliminary/ground_truths_example.json\"\n",
    "FINANCE_PATH = \"競賽資料集/reference/finance\""
   ]
  },
  {
   "cell_type": "code",
   "execution_count": 3,
   "metadata": {},
   "outputs": [],
   "source": [
    "question = read_json(QUESTION_PATH)[\"questions\"]"
   ]
  },
  {
   "cell_type": "code",
   "execution_count": 4,
   "metadata": {},
   "outputs": [],
   "source": [
    "# from huggingface_hub import snapshot_download\n",
    "\n",
    "# # 下載模型到指定路徑\n",
    "# local_model_path = \"./models/bge-m3\"\n",
    "# snapshot_download(repo_id=\"BAAI/bge-m3\", revision=\"main\", local_dir=local_model_path)"
   ]
  },
  {
   "cell_type": "code",
   "execution_count": 5,
   "metadata": {},
   "outputs": [
    {
     "name": "stderr",
     "output_type": "stream",
     "text": [
      "c:\\Users\\weiso131\\anaconda3\\envs\\rag\\Lib\\site-packages\\sentence_transformers\\cross_encoder\\CrossEncoder.py:13: TqdmWarning: IProgress not found. Please update jupyter and ipywidgets. See https://ipywidgets.readthedocs.io/en/stable/user_install.html\n",
      "  from tqdm.autonotebook import tqdm, trange\n"
     ]
    }
   ],
   "source": [
    "from sentence_transformers import SentenceTransformer\n",
    "\n",
    "# 加載模型\n",
    "embbeded_model = SentenceTransformer(\"./models/bge-m3\", device='cuda')"
   ]
  },
  {
   "cell_type": "markdown",
   "metadata": {},
   "source": [
    "### 驗證faq資料集的正確率"
   ]
  },
  {
   "cell_type": "code",
   "execution_count": 6,
   "metadata": {},
   "outputs": [],
   "source": [
    "from langchain.text_splitter import RecursiveCharacterTextSplitter\n",
    "\n",
    "text_splitter = RecursiveCharacterTextSplitter(\n",
    "    chunk_size=500,  # 每段的目標長度\n",
    "    chunk_overlap=300  # 分段間的重疊字符數\n",
    ")\n",
    "\n",
    "FILE_NUM = 2000\n",
    "\n",
    "def validate_finance(embbeded_model, question):\n",
    "    ans = read_json(ANS_PATH)\n",
    "    correct = 0\n",
    "    half_correct = 0 #答案在前五\n",
    "\n",
    "    already_read = [\"\" for _ in range(FILE_NUM)]\n",
    "\n",
    "    for i in range(50, 100):\n",
    "        src = np.array(question[i][\"source\"])\n",
    "        document = read_target_insurance_pdf(FINANCE_PATH, src, already_read)\n",
    "        tokens = []\n",
    "        chunk_real_index = []\n",
    "        for j in range(len(document)):\n",
    "            text = document[j]\n",
    "\n",
    "            if already_read[src[j]] == \"\":\n",
    "                already_read[src[j]] = text\n",
    "\n",
    "            chunks = text_splitter.split_text(text)\n",
    "            tokens.extend(chunks)\n",
    "            chunk_real_index.extend([j + k * 0 for k in range(len(chunks))])\n",
    "\n",
    "                \n",
    "        chunk_real_index=np.array(chunk_real_index)\n",
    "\n",
    "\n",
    "        token_index, similarities = get_ans(embbeded_model, question[i], tokens, 10)\n",
    "        real_index = chunk_real_index[token_index]\n",
    "        all_predict = src[real_index]\n",
    "        predict = all_predict[0]\n",
    "\n",
    "\n",
    "        if (predict == ans[\"ground_truths\"][i][\"retrieve\"]):\n",
    "            correct += 1\n",
    "        else:\n",
    "            show_wrong_ans(i, predict, ans, token_index, \\\n",
    "                   src, real_index, similarities, chunk_real_index, tokens, \"output_finance\")\n",
    "\n",
    "        if (ans[\"ground_truths\"][i][\"retrieve\"] in all_predict):\n",
    "            half_correct += 1\n",
    "\n",
    "    print(f\"acc: {correct / 50 * 100} %\")\n",
    "    print(f\"in rank 5: {half_correct / 50 * 100} %\")"
   ]
  },
  {
   "cell_type": "markdown",
   "metadata": {},
   "source": [
    "### 驗證finance資料集的正確率"
   ]
  },
  {
   "cell_type": "code",
   "execution_count": 7,
   "metadata": {},
   "outputs": [
    {
     "name": "stderr",
     "output_type": "stream",
     "text": [
      "C:\\Users\\weiso131\\AppData\\Roaming\\Python\\Python312\\site-packages\\transformers\\models\\xlm_roberta\\modeling_xlm_roberta.py:371: UserWarning: 1Torch was not compiled with flash attention. (Triggered internally at C:\\actions-runner\\_work\\pytorch\\pytorch\\builder\\windows\\pytorch\\aten\\src\\ATen\\native\\transformers\\cuda\\sdp_utils.cpp:555.)\n",
      "  attn_output = torch.nn.functional.scaled_dot_product_attention(\n"
     ]
    },
    {
     "name": "stdout",
     "output_type": "stream",
     "text": [
      "qid: 58, predict: 112, ans: 209\n",
      "qid: 62, predict: 1024, ans: 591\n",
      "qid: 64, predict: 706, ans: 124\n",
      "qid: 67, predict: 837, ans: 1021\n",
      "qid: 69, predict: 545, ans: 981\n",
      "qid: 70, predict: 298, ans: 490\n",
      "qid: 75, predict: 178, ans: 71\n",
      "qid: 79, predict: 912, ans: 65\n",
      "qid: 82, predict: 838, ans: 831\n",
      "qid: 86, predict: 525, ans: 189\n",
      "qid: 90, predict: 761, ans: 710\n",
      "qid: 93, predict: 321, ans: 660\n",
      "qid: 99, predict: 693, ans: 372\n",
      "acc: 74.0 %\n",
      "in rank 5: 98.0 %\n"
     ]
    }
   ],
   "source": [
    "import os\n",
    "\n",
    "if not os.path.exists(\"output_finance/\"):\n",
    "    os.makedirs(\"output_finance/\")\n",
    "validate_finance(embbeded_model, question)"
   ]
  },
  {
   "cell_type": "code",
   "execution_count": null,
   "metadata": {},
   "outputs": [],
   "source": []
  }
 ],
 "metadata": {
  "kernelspec": {
   "display_name": "rag",
   "language": "python",
   "name": "python3"
  },
  "language_info": {
   "codemirror_mode": {
    "name": "ipython",
    "version": 3
   },
   "file_extension": ".py",
   "mimetype": "text/x-python",
   "name": "python",
   "nbconvert_exporter": "python",
   "pygments_lexer": "ipython3",
   "version": "3.12.5"
  }
 },
 "nbformat": 4,
 "nbformat_minor": 2
}
