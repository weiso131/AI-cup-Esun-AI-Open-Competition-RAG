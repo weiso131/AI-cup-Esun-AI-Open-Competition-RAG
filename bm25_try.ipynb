{
 "cells": [
  {
   "cell_type": "code",
   "execution_count": 1,
   "metadata": {},
   "outputs": [],
   "source": [
    "from utils.read_file import *"
   ]
  },
  {
   "cell_type": "code",
   "execution_count": 2,
   "metadata": {},
   "outputs": [],
   "source": [
    "QUESTION_PATH = \"競賽資料集/dataset/preliminary/questions_example.json\"\n",
    "ANS_PATH = \"競賽資料集/dataset/preliminary/ground_truths_example.json\"\n",
    "FINANCE_PATH = \"競賽資料集/reference/finance\""
   ]
  },
  {
   "cell_type": "code",
   "execution_count": null,
   "metadata": {},
   "outputs": [],
   "source": [
    "question = read_json(QUESTION_PATH)[\"questions\"]"
   ]
  },
  {
   "cell_type": "code",
   "execution_count": null,
   "metadata": {},
   "outputs": [],
   "source": [
    "from rank_bm25 import BM25Okapi\n",
    "\n",
    "def get_ans_bm25(question_data: dict, documents: list, k=1):\n",
    "    \n",
    "    tokenized_documents = [doc.split(\" \") for doc in documents]\n",
    "\n",
    "    # bm25 模型\n",
    "    bm25 = BM25Okapi(tokenized_documents)\n",
    "\n",
    "    user_query = question_data[\"query\"].split(\" \")\n",
    "\n",
    "    scores = bm25.get_scores(user_query)\n",
    "    \n",
    "    k_highest = np.argsort(scores)[-k:][::-1]\n",
    "    return k_highest, np.sort(scores)[::-1][:k]\n"
   ]
  },
  {
   "cell_type": "code",
   "execution_count": 6,
   "metadata": {},
   "outputs": [],
   "source": [
    "import numpy as np\n",
    "from langchain.text_splitter import RecursiveCharacterTextSplitter"
   ]
  },
  {
   "cell_type": "code",
   "execution_count": 14,
   "metadata": {},
   "outputs": [],
   "source": [
    "def validate_finance_bm25(question):\n",
    "    ans = read_json(ANS_PATH)\n",
    "    correct = 0\n",
    "    half_correct = 0\n",
    "\n",
    "    for i in range(50, 100):\n",
    "        src = question[i][\"source\"]\n",
    "        document, order_list = read_target_insurance_pdf(FINANCE_PATH, src)\n",
    "        \n",
    "        # 直接使用完整的 document\n",
    "        token_index, similarities = get_ans_bm25(question[i], document, 5)\n",
    "        all_predict = [order_list[idx] for idx in token_index]\n",
    "        predict = all_predict[0]\n",
    "\n",
    "        if predict == ans[\"ground_truths\"][i][\"retrieve\"]:\n",
    "            correct += 1\n",
    "        else:\n",
    "            print(f\"qid: {i + 1}, predict: {predict}, ans: {ans['ground_truths'][i]['retrieve']}\")\n",
    "            error_text = f\"qid: {i + 1}, ans: {ans['ground_truths'][i]['retrieve']}\\n\\n\\n\"\n",
    "            for j in range(len(token_index)):\n",
    "                error_text += f\"index: {order_list[token_index[j]]}, similarity: {similarities[j]}\\n\\n{document[token_index[j]]}\\n\\n\\n\"\n",
    "\n",
    "            with open(f\"output_finance/qid_{i + 1}.txt\", 'w', encoding='utf-8') as file:\n",
    "                file.write(error_text)\n",
    "\n",
    "        if ans[\"ground_truths\"][i][\"retrieve\"] in all_predict:\n",
    "            half_correct += 1\n",
    "\n",
    "    print(f\"acc: {correct / 50 * 100} %\")\n",
    "    print(f\"in rank 5: {half_correct / 50 * 100} %\")\n"
   ]
  },
  {
   "cell_type": "code",
   "execution_count": 15,
   "metadata": {},
   "outputs": [
    {
     "name": "stdout",
     "output_type": "stream",
     "text": [
      "qid: 53, predict: 611, ans: 351\n",
      "qid: 54, predict: 663, ans: 612\n",
      "qid: 55, predict: 116, ans: 166\n",
      "qid: 59, predict: 190, ans: 632\n",
      "qid: 61, predict: 59, ans: 900\n",
      "qid: 64, predict: 150, ans: 124\n",
      "qid: 68, predict: 955, ans: 942\n",
      "qid: 70, predict: 495, ans: 490\n",
      "qid: 71, predict: 873, ans: 920\n",
      "qid: 72, predict: 92, ans: 204\n",
      "qid: 79, predict: 947, ans: 65\n",
      "qid: 80, predict: 80, ans: 213\n",
      "qid: 82, predict: 33, ans: 831\n",
      "qid: 92, predict: 715, ans: 55\n",
      "qid: 94, predict: 291, ans: 699\n",
      "qid: 97, predict: 279, ans: 282\n",
      "qid: 98, predict: 835, ans: 692\n",
      "acc: 66.0 %\n",
      "in rank 5: 100.0 %\n"
     ]
    }
   ],
   "source": [
    "import os\n",
    "if not os.path.exists(\"output_finance/\"):\n",
    "    os.makedirs(\"output_finance/\")\n",
    "\n",
    "validate_finance_bm25(question)"
   ]
  }
 ],
 "metadata": {
  "kernelspec": {
   "display_name": "Python 3",
   "language": "python",
   "name": "python3"
  },
  "language_info": {
   "codemirror_mode": {
    "name": "ipython",
    "version": 3
   },
   "file_extension": ".py",
   "mimetype": "text/x-python",
   "name": "python",
   "nbconvert_exporter": "python",
   "pygments_lexer": "ipython3",
   "version": "3.12.7"
  }
 },
 "nbformat": 4,
 "nbformat_minor": 2
}
